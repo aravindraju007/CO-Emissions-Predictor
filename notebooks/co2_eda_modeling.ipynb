{
 "cells": [
  {
   "cell_type": "markdown",
   "metadata": {},
   "source": [
    "# CO₂ Emissions Prediction with XGBoost"
   ]
  },
  {
   "cell_type": "code",
   "execution_count": null,
   "metadata": {},
   "outputs": [],
   "source": [
    "import pandas as pd\n",
    "from sklearn.model_selection import train_test_split\n",
    "from sklearn.preprocessing import OneHotEncoder\n",
    "from sklearn.compose import ColumnTransformer\n",
    "from sklearn.pipeline import Pipeline\n",
    "from sklearn.metrics import mean_absolute_error, mean_squared_error, r2_score\n",
    "from xgboost import XGBRegressor\n",
    "import numpy as np\n\n",
    "# Load dataset\n",
    "df = pd.read_csv('../data/raw/certificates.csv')\n\n",
    "# Select features and target\n",
    "features = [\n",
    "    'PROPERTY_TYPE', 'BUILT_FORM', 'MAIN_FUEL',\n",
    "    'TOTAL_FLOOR_AREA', 'ENERGY_CONSUMPTION_CURRENT',\n",
    "    'CONSTRUCTION_AGE_BAND', 'WALLS_ENERGY_EFF',\n",
    "    'WINDOWS_ENERGY_EFF', 'ROOF_ENERGY_EFF',\n",
    "    'HOT_WATER_ENERGY_EFF', 'SHEATING_ENV_EFF',\n",
    "    'LIGHTING_ENERGY_EFF', 'MAINS_GAS_FLAG',\n",
    "    'SOLAR_WATER_HEATING_FLAG'\n",
    "]\n\n",
    "df = df[features + ['CO2_EMISSIONS_CURRENT']].dropna()\n\n",
    "X = df[features]\n",
    "y = df['CO2_EMISSIONS_CURRENT']\n\n",
    "# Train-test split\n",
    "X_train, X_test, y_train, y_test = train_test_split(X, y, test_size=0.2, random_state=42)\n\n",
    "# Preprocessor\n",
    "categorical = X.select_dtypes(include='object').columns.tolist()\n",
    "preprocessor = ColumnTransformer([\n",
    "    ('cat', OneHotEncoder(handle_unknown='ignore'), categorical)\n",
    "], remainder='passthrough')\n\n",
    "# Pipeline\n",
    "model = Pipeline([\n",
    "    ('prep', preprocessor),\n",
    "    ('xgb', XGBRegressor(objective='reg:squarederror'))\n",
    "])\n\n",
    "# Train\n",
    "model.fit(X_train, y_train)\n",
    "preds = model.predict(X_test)\n\n",
    "# Evaluate\n",
    "mae = mean_absolute_error(y_test, preds)\n",
    "rmse = np.sqrt(mean_squared_error(y_test, preds))\n",
    "r2 = r2_score(y_test, preds)\n\n",
    "print(f'MAE: {mae:.2f}')\n",
    "print(f'RMSE: {rmse:.2f}')\n",
    "print(f'R² Score: {r2:.2f}')"
   ]
  }
 ],
 "metadata": {
  "kernelspec": {
   "display_name": "Python 3",
   "language": "python",
   "name": "python3"
  },
  "language_info": {
   "name": "python"
  }
 },
 "nbformat": 4,
 "nbformat_minor": 2
}